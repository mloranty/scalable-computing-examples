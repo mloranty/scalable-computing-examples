{
 "cells": [
  {
   "cell_type": "markdown",
   "id": "a838f03c",
   "metadata": {},
   "source": [
    "# Software design 1"
   ]
  },
  {
   "cell_type": "markdown",
   "id": "75434e71",
   "metadata": {},
   "source": []
  },
  {
   "cell_type": "code",
   "execution_count": 2,
   "id": "547e34fb",
   "metadata": {},
   "outputs": [
    {
     "name": "stdout",
     "output_type": "stream",
     "text": [
      "<function double at 0x7fd3452925f0>\n"
     ]
    }
   ],
   "source": [
    "def double(x):\n",
    "    return 2*x\n",
    "\n",
    "print(double)"
   ]
  },
  {
   "cell_type": "code",
   "execution_count": 3,
   "id": "197488a1",
   "metadata": {},
   "outputs": [
    {
     "name": "stdout",
     "output_type": "stream",
     "text": [
      "<function double at 0x7fd3452925f0>\n"
     ]
    }
   ],
   "source": [
    "twotimes = double\n",
    "type(twotimes)\n",
    "print(twotimes)"
   ]
  },
  {
   "cell_type": "code",
   "execution_count": 4,
   "id": "8b57aa32",
   "metadata": {},
   "outputs": [
    {
     "name": "stdout",
     "output_type": "stream",
     "text": [
      "34\n",
      "24\n"
     ]
    },
    {
     "data": {
      "text/plain": [
       "True"
      ]
     },
     "execution_count": 4,
     "metadata": {},
     "output_type": "execute_result"
    }
   ],
   "source": [
    "print(double(17))\n",
    "print(twotimes(12))\n",
    "twotimes(4) == double(4)"
   ]
  },
  {
   "cell_type": "code",
   "execution_count": 6,
   "id": "c7dd2e62",
   "metadata": {},
   "outputs": [
    {
     "data": {
      "text/plain": [
       "[4, 6, 8]"
      ]
     },
     "execution_count": 6,
     "metadata": {},
     "output_type": "execute_result"
    }
   ],
   "source": [
    "list(map(twotimes,[2,3,4]))"
   ]
  },
  {
   "cell_type": "code",
   "execution_count": 7,
   "id": "451e0240",
   "metadata": {},
   "outputs": [
    {
     "name": "stdout",
     "output_type": "stream",
     "text": [
      "Ran wrapper\n",
      "Ran some_function\n",
      "Finished wrapper\n"
     ]
    }
   ],
   "source": [
    "def some_function():\n",
    "    print(\"Ran some_function\")\n",
    "\n",
    "def wrapper(func_to_run):\n",
    "    print(\"Ran wrapper\")\n",
    "    func_to_run()\n",
    "    print(\"Finished wrapper\")\n",
    "\n",
    "wrapper(some_function)"
   ]
  },
  {
   "cell_type": "code",
   "execution_count": 8,
   "id": "1e7d5326",
   "metadata": {},
   "outputs": [
    {
     "name": "stdout",
     "output_type": "stream",
     "text": [
      "Wrapper started\n",
      "Ran some_function\n",
      "Wrapper ended\n"
     ]
    }
   ],
   "source": [
    "def my_decorator(func_to_run):\n",
    "    def wrapper():\n",
    "        print(\"Wrapper started\"),\n",
    "        func_to_run()\n",
    "        print(\"Wrapper ended\")\n",
    "    return wrapper\n",
    "\n",
    "f = my_decorator(some_function)\n",
    "f()"
   ]
  },
  {
   "cell_type": "code",
   "execution_count": 10,
   "id": "25e495f1",
   "metadata": {},
   "outputs": [
    {
     "name": "stdout",
     "output_type": "stream",
     "text": [
      "Wrapper started\n",
      "Hello\n",
      "Wrapper ended\n"
     ]
    }
   ],
   "source": [
    "@my_decorator\n",
    "def hello():\n",
    "    print(\"Hello\")\n",
    "\n",
    "hello()"
   ]
  },
  {
   "cell_type": "code",
   "execution_count": 11,
   "id": "d3dedb76",
   "metadata": {},
   "outputs": [
    {
     "name": "stdout",
     "output_type": "stream",
     "text": [
      "Wrapper started\n",
      "Ran some_function\n",
      "Wrapper ended\n"
     ]
    }
   ],
   "source": [
    "f()"
   ]
  },
  {
   "cell_type": "markdown",
   "id": "df0c528b",
   "metadata": {},
   "source": [
    "# Global variables"
   ]
  },
  {
   "cell_type": "code",
   "execution_count": 14,
   "id": "316cf29f",
   "metadata": {},
   "outputs": [
    {
     "name": "stdout",
     "output_type": "stream",
     "text": [
      "10\n"
     ]
    }
   ],
   "source": [
    "def do_task():\n",
    "    global x\n",
    "    x = 10\n",
    "\n",
    "x = 5\n",
    "do_task()\n",
    "print(x)"
   ]
  },
  {
   "cell_type": "code",
   "execution_count": 15,
   "id": "12bb5b68",
   "metadata": {},
   "outputs": [
    {
     "data": {
      "text/plain": [
       "18"
      ]
     },
     "execution_count": 15,
     "metadata": {},
     "output_type": "execute_result"
    }
   ],
   "source": [
    "a = 3\n",
    "\n",
    "def do_stuff(b):\n",
    "    return b*a\n",
    "\n",
    "do_stuff(6)"
   ]
  },
  {
   "cell_type": "markdown",
   "id": "cf08b42c",
   "metadata": {},
   "source": [
    "# Locks"
   ]
  },
  {
   "cell_type": "code",
   "execution_count": 22,
   "id": "74867174",
   "metadata": {},
   "outputs": [
    {
     "name": "stdout",
     "output_type": "stream",
     "text": [
      "012   HelloHelloHello\n",
      "\n",
      "\n",
      "021   worldworldworld\n",
      "\n",
      "\n"
     ]
    }
   ],
   "source": [
    "from concurrent.futures import ProcessPoolExecutor\n",
    "import time\n",
    "\n",
    "def hello(i):\n",
    "    print(i, 'Hello')\n",
    "    print(i, 'world')\n",
    "\n",
    "executor = ProcessPoolExecutor()\n",
    "futures = [executor.submit(hello, i) for i in range(3)]\n",
    "for future in futures:\n",
    "    future.result()   "
   ]
  },
  {
   "cell_type": "code",
   "execution_count": 26,
   "id": "11577ec0",
   "metadata": {},
   "outputs": [
    {
     "name": "stdout",
     "output_type": "stream",
     "text": [
      "0 Hello\n",
      "0 world\n",
      "1 Hello\n",
      "1 world\n",
      "2 Hello\n",
      "2 world\n"
     ]
    }
   ],
   "source": [
    "from concurrent.futures import ProcessPoolExecutor\n",
    "import time\n",
    "import multiprocessing\n",
    "\n",
    "def hello(i, lock):\n",
    "    with lock:\n",
    "        print(i, 'Hello')\n",
    "        print(i, 'world')\n",
    "\n",
    "lock = multiprocessing.Manager().Lock()\n",
    "executor = ProcessPoolExecutor()\n",
    "futures = [executor.submit(hello, i, lock) for i in range(3)]\n",
    "for future in futures:\n",
    "    future.result()"
   ]
  },
  {
   "cell_type": "code",
   "execution_count": null,
   "id": "2079c680",
   "metadata": {},
   "outputs": [],
   "source": []
  },
  {
   "cell_type": "code",
   "execution_count": null,
   "id": "c15f784c",
   "metadata": {},
   "outputs": [],
   "source": []
  }
 ],
 "metadata": {
  "kernelspec": {
   "display_name": "scomp",
   "language": "python",
   "name": "python3"
  },
  "language_info": {
   "codemirror_mode": {
    "name": "ipython",
    "version": 3
   },
   "file_extension": ".py",
   "mimetype": "text/x-python",
   "name": "python",
   "nbconvert_exporter": "python",
   "pygments_lexer": "ipython3",
   "version": "3.10.12"
  }
 },
 "nbformat": 4,
 "nbformat_minor": 5
}
