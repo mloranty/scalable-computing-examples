{
 "cells": [
  {
   "cell_type": "markdown",
   "id": "a838f03c",
   "metadata": {},
   "source": [
    "# Software design 1"
   ]
  },
  {
   "cell_type": "markdown",
   "id": "75434e71",
   "metadata": {},
   "source": []
  },
  {
   "cell_type": "code",
   "execution_count": 2,
   "id": "547e34fb",
   "metadata": {},
   "outputs": [
    {
     "name": "stdout",
     "output_type": "stream",
     "text": [
      "<function double at 0x7fc0e950f5b0>\n"
     ]
    }
   ],
   "source": [
    "def double(x):\n",
    "    return 2*x\n",
    "\n",
    "print(double)"
   ]
  },
  {
   "cell_type": "code",
   "execution_count": 6,
   "id": "197488a1",
   "metadata": {},
   "outputs": [
    {
     "name": "stdout",
     "output_type": "stream",
     "text": [
      "<function double at 0x7fc0e950f5b0>\n"
     ]
    }
   ],
   "source": [
    "twotimes = double\n",
    "type(twotimes)\n",
    "print(twotimes)"
   ]
  },
  {
   "cell_type": "code",
   "execution_count": null,
   "id": "8b57aa32",
   "metadata": {},
   "outputs": [],
   "source": []
  }
 ],
 "metadata": {
  "kernelspec": {
   "display_name": "scomp",
   "language": "python",
   "name": "python3"
  },
  "language_info": {
   "codemirror_mode": {
    "name": "ipython",
    "version": 3
   },
   "file_extension": ".py",
   "mimetype": "text/x-python",
   "name": "python",
   "nbconvert_exporter": "python",
   "pygments_lexer": "ipython3",
   "version": "3.10.12"
  }
 },
 "nbformat": 4,
 "nbformat_minor": 5
}
